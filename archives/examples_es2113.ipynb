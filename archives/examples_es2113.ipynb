{
 "cells": [
  {
   "cell_type": "code",
   "execution_count": null,
   "metadata": {},
   "outputs": [],
   "source": [
    "import busworks_xt1111\n",
    "import importlib\n",
    "importlib.reload(busworks_xt1111)\n",
    "# busworks_xt1111.py in the same directory"
   ]
  },
  {
   "cell_type": "code",
   "execution_count": null,
   "metadata": {},
   "outputs": [],
   "source": [
    "# initialize default IP-add of the device at 192.168.1.100 using port 502\n",
    "bus = busworks_xt1111.BusWorksXT1111(address='128.1.1.100', num_chns=96)\n",
    "# connect with xt1111 using modbus tcp client\n",
    "# bus.start()"
   ]
  },
  {
   "cell_type": "code",
   "execution_count": null,
   "metadata": {},
   "outputs": [],
   "source": [
    "from pymodbus.client.sync import ModbusTcpClient\n",
    "bus.XT1111 = ModbusTcpClient('128.1.1.100', port=502)\n",
    "bus.XT1111.connect()"
   ]
  },
  {
   "cell_type": "code",
   "execution_count": null,
   "metadata": {},
   "outputs": [],
   "source": [
    "while not bus.XT1111.connect():\n",
    "    bus.XT1111.connect()\n",
    "    sleep(2)"
   ]
  },
  {
   "cell_type": "code",
   "execution_count": null,
   "metadata": {},
   "outputs": [],
   "source": [
    "print(str(bus.XT1111.read_holding_registers(0, 82).registers))\n",
    "str(bus.XT1111.read_input_registers(0, 13).registers)"
   ]
  },
  {
   "cell_type": "code",
   "execution_count": null,
   "metadata": {},
   "outputs": [],
   "source": [
    "str(bus.XT1111.write_register(49, 1))"
   ]
  },
  {
   "cell_type": "code",
   "execution_count": null,
   "metadata": {},
   "outputs": [],
   "source": [
    "str(bus.XT1111.write_coils(address=48, values=[True, True, True]))"
   ]
  },
  {
   "cell_type": "code",
   "execution_count": null,
   "metadata": {},
   "outputs": [],
   "source": [
    "str(bus.XT1111.write_coil(address=42, value=0))"
   ]
  },
  {
   "cell_type": "code",
   "execution_count": null,
   "metadata": {},
   "outputs": [],
   "source": [
    "str(bus.XT1111.read_coils(32, 9).bits)"
   ]
  },
  {
   "cell_type": "code",
   "execution_count": null,
   "metadata": {},
   "outputs": [],
   "source": [
    "bus.XT1111.read_coils(0, 32)"
   ]
  },
  {
   "cell_type": "code",
   "execution_count": null,
   "metadata": {},
   "outputs": [],
   "source": [
    "result = bus.XT1111.read_discrete_inputs(32, 9).bits\n",
    "print(str(result))\n",
    "print(type(result))"
   ]
  },
  {
   "cell_type": "code",
   "execution_count": null,
   "metadata": {},
   "outputs": [],
   "source": [
    "print(type([2]))"
   ]
  },
  {
   "cell_type": "code",
   "execution_count": null,
   "metadata": {},
   "outputs": [],
   "source": [
    "from time import time, ctime\n",
    "start_time = time()\n",
    "print('start at: {}'.format(ctime(start_time)))"
   ]
  },
  {
   "cell_type": "code",
   "execution_count": null,
   "metadata": {},
   "outputs": [],
   "source": [
    "# To get a gain of 9dB with filter 2 and 3 on\n",
    "bus.set_gains_and_filters(9, '011')\n",
    "print(bus.read_registers())\n",
    "bus.print_register_states()\n",
    "print('time elaspsed: {}'.format(time()-start_time))"
   ]
  },
  {
   "cell_type": "code",
   "execution_count": null,
   "metadata": {},
   "outputs": [],
   "source": [
    "# test if readbacks change based on different input voltages. e.g. by connecting the wires from i/o 00 to i/o 08, so when 00 changes from 0 to 1, 08 should also change from 0 to 1, and we should be able to read this change in real time\n",
    "from time import sleep\n",
    "while True:\n",
    "    bus.print_register_states()\n",
    "    print()\n",
    "    sleep(2)"
   ]
  },
  {
   "cell_type": "code",
   "execution_count": null,
   "metadata": {},
   "outputs": [],
   "source": [
    "# To get a gain of 39dB with filters off as default ([0, 0, 0])\n",
    "# bus.stop()\n",
    "# sleep(0.1)\n",
    "bus.set_gains_and_filters(39)\n",
    "# sleep(0.1)\n",
    "print(bus.read_registers())\n",
    "bus.print_register_states()"
   ]
  },
  {
   "cell_type": "code",
   "execution_count": null,
   "metadata": {},
   "outputs": [],
   "source": [
    "# shut it down in the end\n",
    "bus.stop()"
   ]
  }
 ],
 "metadata": {
  "interpreter": {
   "hash": "aee8b7b246df8f9039afb4144a1f6fd8d2ca17a180786b69acc140d282b71a49"
  },
  "kernelspec": {
   "display_name": "Python 3.9.8 64-bit",
   "language": "python",
   "name": "python3"
  },
  "language_info": {
   "codemirror_mode": {
    "name": "ipython",
    "version": 3
   },
   "file_extension": ".py",
   "mimetype": "text/x-python",
   "name": "python",
   "nbconvert_exporter": "python",
   "pygments_lexer": "ipython3",
   "version": "3.7.3"
  },
  "orig_nbformat": 4
 },
 "nbformat": 4,
 "nbformat_minor": 2
}
