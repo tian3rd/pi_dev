{
 "cells": [
  {
   "cell_type": "code",
   "execution_count": 1,
   "metadata": {},
   "outputs": [
    {
     "data": {
      "text/plain": [
       "<module 'busworks_xt1111' from '/home/controls/pythoncode/pitestcode/busworks_xt1111.py'>"
      ]
     },
     "execution_count": 1,
     "metadata": {},
     "output_type": "execute_result"
    }
   ],
   "source": [
    "import busworks_xt1111\n",
    "import importlib\n",
    "importlib.reload(busworks_xt1111)\n",
    "# busworks_xt1111.py in the same directory"
   ]
  },
  {
   "cell_type": "code",
   "execution_count": 2,
   "metadata": {},
   "outputs": [],
   "source": [
    "# initialize default IP-add of the device at 192.168.1.100 using port 502\n",
    "bus = busworks_xt1111.BusWorksXT1111()\n",
    "# connect with xt1111 using modbus tcp client\n",
    "bus.start()\n",
    "# To get a gain of 12dB with filter 2 and 3 on\n",
    "bus.set_gains_and_filters(12, [0, 1, 1])"
   ]
  },
  {
   "cell_type": "code",
   "execution_count": 3,
   "metadata": {},
   "outputs": [],
   "source": [
    "# To get a gain of 42dB with filters off as default ([0, 0, 0])\n",
    "bus.stop()\n",
    "bus.set_gains_and_filters(42)"
   ]
  },
  {
   "cell_type": "code",
   "execution_count": 4,
   "metadata": {},
   "outputs": [],
   "source": [
    "# shut it down in the end\n",
    "bus.stop()"
   ]
  }
 ],
 "metadata": {
  "interpreter": {
   "hash": "aee8b7b246df8f9039afb4144a1f6fd8d2ca17a180786b69acc140d282b71a49"
  },
  "kernelspec": {
   "display_name": "Python 3.9.8 64-bit",
   "language": "python",
   "name": "python3"
  },
  "language_info": {
   "codemirror_mode": {
    "name": "ipython",
    "version": 3
   },
   "file_extension": ".py",
   "mimetype": "text/x-python",
   "name": "python",
   "nbconvert_exporter": "python",
   "pygments_lexer": "ipython3",
   "version": "3.7.3"
  },
  "orig_nbformat": 4
 },
 "nbformat": 4,
 "nbformat_minor": 2
}
