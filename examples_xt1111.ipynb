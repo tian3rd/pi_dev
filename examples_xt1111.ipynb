{
 "cells": [
  {
   "cell_type": "code",
   "execution_count": 113,
   "metadata": {},
   "outputs": [
    {
     "data": {
      "text/plain": [
       "<module 'busworks_xt1111' from '/home/controls/pythoncode/pitestcode/busworks_xt1111.py'>"
      ]
     },
     "execution_count": 113,
     "metadata": {},
     "output_type": "execute_result"
    }
   ],
   "source": [
    "import busworks_xt1111\n",
    "import importlib\n",
    "importlib.reload(busworks_xt1111)\n",
    "# busworks_xt1111.py in the same directory"
   ]
  },
  {
   "cell_type": "code",
   "execution_count": 114,
   "metadata": {},
   "outputs": [],
   "source": [
    "# initialize default IP-add of the device at 192.168.1.100 using port 502\n",
    "bus = busworks_xt1111.BusWorksXT1111()\n",
    "# connect with xt1111 using modbus tcp client\n",
    "bus.start()"
   ]
  },
  {
   "cell_type": "code",
   "execution_count": 125,
   "metadata": {},
   "outputs": [
    {
     "name": "stdout",
     "output_type": "stream",
     "text": [
      "start at: 1638410662.78755\n"
     ]
    }
   ],
   "source": [
    "from time import time\n",
    "start_time = time()\n",
    "print('start at: {}'.format(start_time))"
   ]
  },
  {
   "cell_type": "code",
   "execution_count": 139,
   "metadata": {},
   "outputs": [
    {
     "name": "stdout",
     "output_type": "stream",
     "text": [
      "[4, 14, 0, 0, 25115]\n",
      "Row 1 (i/o 0  - 3 ): 0 | 0 | 1 | 0\n",
      "Row 2 (i/o 4  - 7 ): 0 | 1 | 1 | 1\n",
      "Row 3 (i/o 8  - 11): 0 | 0 | 0 | 0\n",
      "Row 4 (i/o 12 - 15): 0 | 0 | 0 | 0\n",
      "time elaspsed: 121.83425855636597\n"
     ]
    }
   ],
   "source": [
    "# To get a gain of 12dB with filter 2 and 3 on\n",
    "bus.set_gains_and_filters(6, [0, 1, 1])\n",
    "print(bus.read_registers(0, 5))\n",
    "bus.print_register_states()\n",
    "print('time elaspsed: {}'.format(time()-start_time))"
   ]
  },
  {
   "cell_type": "code",
   "execution_count": 57,
   "metadata": {},
   "outputs": [
    {
     "name": "stdout",
     "output_type": "stream",
     "text": [
      "Row 1 (i/o 0  - 3 ): 0 | 0 | 1 | 0\n",
      "Row 2 (i/o 4  - 7 ): 0 | 1 | 1 | 1\n",
      "Row 3 (i/o 8  - 11): 0 | 0 | 0 | 0\n",
      "Row 4 (i/o 12 - 15): 0 | 0 | 0 | 0\n",
      "\n",
      "Row 1 (i/o 0  - 3 ): 0 | 0 | 1 | 0\n",
      "Row 2 (i/o 4  - 7 ): 0 | 1 | 1 | 1\n",
      "Row 3 (i/o 8  - 11): 0 | 0 | 1 | 0\n",
      "Row 4 (i/o 12 - 15): 0 | 0 | 0 | 0\n",
      "\n",
      "Row 1 (i/o 0  - 3 ): 0 | 0 | 1 | 0\n",
      "Row 2 (i/o 4  - 7 ): 0 | 1 | 1 | 1\n",
      "Row 3 (i/o 8  - 11): 0 | 0 | 1 | 0\n",
      "Row 4 (i/o 12 - 15): 0 | 0 | 0 | 0\n",
      "\n",
      "Row 1 (i/o 0  - 3 ): 0 | 0 | 1 | 0\n",
      "Row 2 (i/o 4  - 7 ): 0 | 1 | 1 | 1\n",
      "Row 3 (i/o 8  - 11): 0 | 0 | 1 | 0\n",
      "Row 4 (i/o 12 - 15): 0 | 0 | 0 | 0\n",
      "\n",
      "Row 1 (i/o 0  - 3 ): 0 | 0 | 1 | 0\n",
      "Row 2 (i/o 4  - 7 ): 0 | 1 | 1 | 1\n",
      "Row 3 (i/o 8  - 11): 0 | 0 | 0 | 0\n",
      "Row 4 (i/o 12 - 15): 0 | 0 | 0 | 0\n",
      "\n"
     ]
    },
    {
     "ename": "KeyboardInterrupt",
     "evalue": "",
     "output_type": "error",
     "traceback": [
      "\u001b[0;31m---------------------------------------------------------------------------\u001b[0m",
      "\u001b[0;31mKeyboardInterrupt\u001b[0m                         Traceback (most recent call last)",
      "\u001b[0;32m<ipython-input-57-72f02c66148a>\u001b[0m in \u001b[0;36m<module>\u001b[0;34m()\u001b[0m\n\u001b[1;32m      3\u001b[0m     \u001b[0mbus\u001b[0m\u001b[0;34m.\u001b[0m\u001b[0mprint_register_states\u001b[0m\u001b[0;34m(\u001b[0m\u001b[0;34m)\u001b[0m\u001b[0;34m\u001b[0m\u001b[0;34m\u001b[0m\u001b[0m\n\u001b[1;32m      4\u001b[0m     \u001b[0mprint\u001b[0m\u001b[0;34m(\u001b[0m\u001b[0;34m)\u001b[0m\u001b[0;34m\u001b[0m\u001b[0;34m\u001b[0m\u001b[0m\n\u001b[0;32m----> 5\u001b[0;31m     \u001b[0msleep\u001b[0m\u001b[0;34m(\u001b[0m\u001b[0;36m2\u001b[0m\u001b[0;34m)\u001b[0m\u001b[0;34m\u001b[0m\u001b[0;34m\u001b[0m\u001b[0m\n\u001b[0m",
      "\u001b[0;31mKeyboardInterrupt\u001b[0m: "
     ]
    }
   ],
   "source": [
    "from time import sleep\n",
    "while True:\n",
    "    bus.print_register_states()\n",
    "    print()\n",
    "    sleep(2)"
   ]
  },
  {
   "cell_type": "code",
   "execution_count": 50,
   "metadata": {},
   "outputs": [
    {
     "name": "stdout",
     "output_type": "stream",
     "text": [
      "[0, 0, 0, 0]\n"
     ]
    }
   ],
   "source": [
    "print(bus.XT1111.read_input_registers(0,4).registers)"
   ]
  },
  {
   "cell_type": "code",
   "execution_count": 25,
   "metadata": {},
   "outputs": [
    {
     "name": "stdout",
     "output_type": "stream",
     "text": [
      "[7, 8, 0, 0]\n"
     ]
    }
   ],
   "source": [
    "# To get a gain of 42dB with filters off as default ([0, 0, 0])\n",
    "bus.stop()\n",
    "bus.set_gains_and_filters(42)\n",
    "print(bus.read_registers())"
   ]
  },
  {
   "cell_type": "code",
   "execution_count": 43,
   "metadata": {},
   "outputs": [],
   "source": [
    "# shut it down in the end\n",
    "bus.stop()"
   ]
  }
 ],
 "metadata": {
  "interpreter": {
   "hash": "aee8b7b246df8f9039afb4144a1f6fd8d2ca17a180786b69acc140d282b71a49"
  },
  "kernelspec": {
   "display_name": "Python 3.9.8 64-bit",
   "language": "python",
   "name": "python3"
  },
  "language_info": {
   "codemirror_mode": {
    "name": "ipython",
    "version": 3
   },
   "file_extension": ".py",
   "mimetype": "text/x-python",
   "name": "python",
   "nbconvert_exporter": "python",
   "pygments_lexer": "ipython3",
   "version": "3.7.3"
  },
  "orig_nbformat": 4
 },
 "nbformat": 4,
 "nbformat_minor": 2
}
